{
 "cells": [
  {
   "cell_type": "markdown",
   "id": "1b074f91",
   "metadata": {},
   "source": [
    "## Table of Contents"
   ]
  },
  {
   "cell_type": "markdown",
   "id": "2705afca",
   "metadata": {},
   "source": [
    "1. [Business Problem](#Business-Problem)\n",
    "2. [Load Packages](#Load-Packages)\n",
    "3. [Load Data](#Load-Data)\n",
    "4. [Check Columns and Rows](#Check-Columns-and-Rows)\n",
    "5. [Establish Performance Benchmark](#Establish-Performance-Benchmark)\n",
    "6. [Data Cleaning Description](#Data-Cleaning-Description)\n",
    "7. [Checking Ratio Of Null Values Per Column](#Checking-Ratio-Of-Null-Values-Per-Column)\n",
    "8. [Create Function to Drop Columns](#Create-Function-to-Drop-Columns)\n",
    "9. [Impute NA's Function](#Impute-NAs-Function)\n",
    "10. [Merging Other Data](#Merging-Other-Data)\n",
    "11. [Feature Engineering](#Feature-Engineering)\n",
    "12. [Train Model And Create Cross Validation](#Train-Model-And-Create-Cross-Validation)\n",
    "13. [Create Cross Validation](#Create-Cross-Validation)\n",
    "14. [Model Explanation](#Model-Explanation)\n",
    "15. [Evaluate Final Model](#Evaluate-Final-Model)\n",
    "16. [Final Predictions](#Final-Predictions)\n",
    "17. [Result Section](#Result-Section)"
   ]
  },
  {
   "cell_type": "markdown",
   "id": "107e2a05",
   "metadata": {},
   "source": [
    "## Business Problem"
   ]
  },
  {
   "cell_type": "raw",
   "id": "a0f875da",
   "metadata": {},
   "source": [
    "Home Credit Group is on a mission to expand financial inclusion for the underbanked population, who are often excluded from traditional banking services due to a lack of credit history. By utilizing alternative data sources, such as telco and transactional information, Home Credit aims to more accurately predict their clients' ability to repay loans. Recognizing the potential to enhance their predictive models, Home Credit seeks the expertise of the Kaggle community. The challenge is to leverage data science techniques to improve the accuracy of predicting loan repayment, thus ensuring that eligible individuals gain access to credit under fair terms. This effort underscores Home Credit's commitment to fostering financial health and empowerment among traditionally underserved communities."
   ]
  },
  {
   "cell_type": "markdown",
   "id": "cf93ac43",
   "metadata": {},
   "source": [
    "## Load Packages"
   ]
  },
  {
   "cell_type": "code",
   "execution_count": 36,
   "id": "5257e493",
   "metadata": {},
   "outputs": [],
   "source": [
    "import pandas as pd\n",
    "import numpy as np\n",
    "from sklearn.model_selection import KFold\n",
    "from sklearn.datasets import load_iris\n",
    "from sklearn.model_selection import train_test_split\n",
    "from sklearn.naive_bayes import GaussianNB\n",
    "from sklearn.tree import DecisionTreeClassifier \n",
    "from sklearn.naive_bayes import CategoricalNB\n",
    "from sklearn.naive_bayes import GaussianNB\n",
    "import matplotlib.pyplot as plt\n",
    "from sklearn.metrics import confusion_matrix, ConfusionMatrixDisplay\n",
    "from sklearn import metrics\n",
    "from sklearn.metrics import r2_score\n",
    "from sklearn.preprocessing import OrdinalEncoder\n",
    "import seaborn as sns\n",
    "import xgboost as xgb\n",
    "import catboost as cb\n",
    "from catboost import CatBoostRegressor  \n",
    "from catboost import CatBoostClassifier  \n",
    "from sklearn.metrics import mean_squared_error, r2_score\n",
    "from catboost import CatBoostClassifier\n",
    "from sklearn.metrics import roc_auc_score\n",
    "from sklearn.linear_model import LinearRegression\n",
    "from sklearn.metrics import mean_squared_error, mean_absolute_error, r2_score, roc_auc_score, roc_curve\n",
    "from sklearn.model_selection import train_test_split\n",
    "from sklearn.tree import DecisionTreeClassifier\n",
    "from sklearn.metrics import accuracy_score"
   ]
  },
  {
   "cell_type": "markdown",
   "id": "933f25b7",
   "metadata": {},
   "source": [
    "## Load Data"
   ]
  },
  {
   "cell_type": "code",
   "execution_count": 37,
   "id": "7a6f2823",
   "metadata": {},
   "outputs": [],
   "source": [
    "train_df = pd.read_csv(\"C:/Users/Sam/Documents/CapStone/application_train.csv\")\n",
    "test_df = pd.read_csv(\"C:/Users/Sam/Documents/CapStone/application_test.csv\")\n",
    "previous_application = pd.read_csv(\"C:/Users/Sam/Documents/CapStone/previous_application.csv\")\n",
    "POS_CASH_balance = pd.read_csv(\"C:/Users/Sam/Documents/CapStone/POS_CASH_balance.csv\")\n",
    "# credit = pd.read_csv(\"C:/Users/Sam/Documents/CapStone/credit_card_balance.csv\")\n",
    "bureau = pd.read_csv(\"C:/Users/Sam/Documents/CapStone/bureau.csv\")\n",
    "# bureau_balance = pd.read_csv(\"C:/Users/Sam/Documents/CapStone/bureau_balance.csv\")\n",
    "# installments_payments = pd.read_csv(\"C:/Users/Sam/Documents/CapStone/installments_payments.csv\")\n",
    "# installments = pd.read_csv(\"C:/Users/Sam/Documents/CapStone/installments.csv\")"
   ]
  },
  {
   "cell_type": "markdown",
   "id": "c53346ad",
   "metadata": {},
   "source": [
    "## Check Columns and Rows"
   ]
  },
  {
   "cell_type": "code",
   "execution_count": 38,
   "id": "5aee0c6d",
   "metadata": {},
   "outputs": [
    {
     "data": {
      "text/plain": [
       "(307511, 122)"
      ]
     },
     "execution_count": 38,
     "metadata": {},
     "output_type": "execute_result"
    }
   ],
   "source": [
    "train_df.shape ## Checking data shape"
   ]
  },
  {
   "cell_type": "code",
   "execution_count": 39,
   "id": "f1a7c9bd",
   "metadata": {},
   "outputs": [
    {
     "data": {
      "text/plain": [
       "Index(['SK_ID_CURR', 'TARGET', 'NAME_CONTRACT_TYPE', 'CODE_GENDER',\n",
       "       'FLAG_OWN_CAR', 'FLAG_OWN_REALTY', 'CNT_CHILDREN', 'AMT_INCOME_TOTAL',\n",
       "       'AMT_CREDIT', 'AMT_ANNUITY',\n",
       "       ...\n",
       "       'FLAG_DOCUMENT_18', 'FLAG_DOCUMENT_19', 'FLAG_DOCUMENT_20',\n",
       "       'FLAG_DOCUMENT_21', 'AMT_REQ_CREDIT_BUREAU_HOUR',\n",
       "       'AMT_REQ_CREDIT_BUREAU_DAY', 'AMT_REQ_CREDIT_BUREAU_WEEK',\n",
       "       'AMT_REQ_CREDIT_BUREAU_MON', 'AMT_REQ_CREDIT_BUREAU_QRT',\n",
       "       'AMT_REQ_CREDIT_BUREAU_YEAR'],\n",
       "      dtype='object', length=122)"
      ]
     },
     "execution_count": 39,
     "metadata": {},
     "output_type": "execute_result"
    }
   ],
   "source": [
    "train_df.columns ## Checking column types"
   ]
  },
  {
   "cell_type": "code",
   "execution_count": 40,
   "id": "25320355",
   "metadata": {},
   "outputs": [
    {
     "data": {
      "text/plain": [
       "(48744, 121)"
      ]
     },
     "execution_count": 40,
     "metadata": {},
     "output_type": "execute_result"
    }
   ],
   "source": [
    "test_df.shape ## Checking the test data frame shape"
   ]
  },
  {
   "cell_type": "markdown",
   "id": "4304356d",
   "metadata": {},
   "source": [
    "## Establish Performance Benchmark"
   ]
  },
  {
   "cell_type": "code",
   "execution_count": 41,
   "id": "21940996",
   "metadata": {},
   "outputs": [
    {
     "name": "stdout",
     "output_type": "stream",
     "text": [
      "Majority Class Performance Benchmark: 91.92711805431351%\n"
     ]
    }
   ],
   "source": [
    "class_counts = train_df['TARGET'].value_counts()\n",
    "# Determine the majority class and its proportion in the dataset\n",
    "majority_class_proportion = class_counts.max() / train_df.shape[0] * 100\n",
    "print(f\"Majority Class Performance Benchmark: {majority_class_proportion}%\")"
   ]
  },
  {
   "cell_type": "markdown",
   "id": "9e6acb16",
   "metadata": {},
   "source": [
    "## Data Cleaning Description "
   ]
  },
  {
   "cell_type": "raw",
   "id": "66d2cdde",
   "metadata": {},
   "source": [
    "To preporcess the data efficently and uniformly I decided to create multiple functions that can be called upon for each data set. This will limit user errors and allow for the data preprocessing to be the same accross each data frame. The functions used include one that drops Columns with more then 50% of the values being null. The next function is being used to impute the median and mode values into the remaining null values. "
   ]
  },
  {
   "cell_type": "markdown",
   "id": "52a33516",
   "metadata": {},
   "source": [
    "## Checking Ratio Of Null Values Per Column"
   ]
  },
  {
   "cell_type": "code",
   "execution_count": 42,
   "id": "7fb6e7e9",
   "metadata": {},
   "outputs": [
    {
     "data": {
      "text/plain": [
       "COMMONAREA_MEDI             0.698723\n",
       "COMMONAREA_AVG              0.698723\n",
       "COMMONAREA_MODE             0.698723\n",
       "NONLIVINGAPARTMENTS_MODE    0.694330\n",
       "NONLIVINGAPARTMENTS_AVG     0.694330\n",
       "                              ...   \n",
       "NAME_HOUSING_TYPE           0.000000\n",
       "NAME_FAMILY_STATUS          0.000000\n",
       "NAME_EDUCATION_TYPE         0.000000\n",
       "NAME_INCOME_TYPE            0.000000\n",
       "SK_ID_CURR                  0.000000\n",
       "Length: 122, dtype: float64"
      ]
     },
     "execution_count": 42,
     "metadata": {},
     "output_type": "execute_result"
    }
   ],
   "source": [
    "values =train_df.isna().sum() / len(train_df)## Checking for the percent of missing values in each column\n",
    "values.sort_values(ascending=False)"
   ]
  },
  {
   "cell_type": "markdown",
   "id": "194f4d72",
   "metadata": {},
   "source": [
    "## Create Function to Drop Columns"
   ]
  },
  {
   "cell_type": "code",
   "execution_count": 43,
   "id": "c1cc186c",
   "metadata": {},
   "outputs": [],
   "source": [
    "def drop_columns(df, threshold=.5,exempt_columns=['TARGET']): ## Seting threshold \n",
    "    missing = df.isna().sum() / len(df)\n",
    "    columns_to_drop = missing[values > threshold].index.tolist()\n",
    "#     existing = [col for col in columns_to_drop if col in df.columns]\n",
    "    df_cleaned = df.drop(columns=columns_to_drop)\n",
    "    return df_cleaned  "
   ]
  },
  {
   "cell_type": "code",
   "execution_count": 44,
   "id": "7c3434cc",
   "metadata": {},
   "outputs": [],
   "source": [
    "train_df = drop_columns(train_df) \n",
    "test_df = drop_columns(test_df)"
   ]
  },
  {
   "cell_type": "markdown",
   "id": "899805a7",
   "metadata": {},
   "source": [
    "## Impute NA's Function "
   ]
  },
  {
   "cell_type": "code",
   "execution_count": 45,
   "id": "038954ba",
   "metadata": {},
   "outputs": [],
   "source": [
    "def impute(df):\n",
    "    for column in df.columns:\n",
    "        if df[column].dtype == 'O': \n",
    "            mode_value = df[column].mode().iloc[0]\n",
    "            df[column] = df[column].fillna(mode_value)  ## Impute the mode value for object columns\n",
    "        else:\n",
    "            median_value = df[column].median()\n",
    "            df[column] = df[column].fillna(median_value) ## Impute the median value for int or num columns\n",
    "    return df"
   ]
  },
  {
   "cell_type": "code",
   "execution_count": 46,
   "id": "3811c448",
   "metadata": {},
   "outputs": [
    {
     "data": {
      "text/html": [
       "<div>\n",
       "<style scoped>\n",
       "    .dataframe tbody tr th:only-of-type {\n",
       "        vertical-align: middle;\n",
       "    }\n",
       "\n",
       "    .dataframe tbody tr th {\n",
       "        vertical-align: top;\n",
       "    }\n",
       "\n",
       "    .dataframe thead th {\n",
       "        text-align: right;\n",
       "    }\n",
       "</style>\n",
       "<table border=\"1\" class=\"dataframe\">\n",
       "  <thead>\n",
       "    <tr style=\"text-align: right;\">\n",
       "      <th></th>\n",
       "      <th>SK_ID_CURR</th>\n",
       "      <th>TARGET</th>\n",
       "      <th>NAME_CONTRACT_TYPE</th>\n",
       "      <th>CODE_GENDER</th>\n",
       "      <th>FLAG_OWN_CAR</th>\n",
       "      <th>FLAG_OWN_REALTY</th>\n",
       "      <th>CNT_CHILDREN</th>\n",
       "      <th>AMT_INCOME_TOTAL</th>\n",
       "      <th>AMT_CREDIT</th>\n",
       "      <th>AMT_ANNUITY</th>\n",
       "      <th>...</th>\n",
       "      <th>FLAG_DOCUMENT_18</th>\n",
       "      <th>FLAG_DOCUMENT_19</th>\n",
       "      <th>FLAG_DOCUMENT_20</th>\n",
       "      <th>FLAG_DOCUMENT_21</th>\n",
       "      <th>AMT_REQ_CREDIT_BUREAU_HOUR</th>\n",
       "      <th>AMT_REQ_CREDIT_BUREAU_DAY</th>\n",
       "      <th>AMT_REQ_CREDIT_BUREAU_WEEK</th>\n",
       "      <th>AMT_REQ_CREDIT_BUREAU_MON</th>\n",
       "      <th>AMT_REQ_CREDIT_BUREAU_QRT</th>\n",
       "      <th>AMT_REQ_CREDIT_BUREAU_YEAR</th>\n",
       "    </tr>\n",
       "  </thead>\n",
       "  <tbody>\n",
       "    <tr>\n",
       "      <th>0</th>\n",
       "      <td>100002</td>\n",
       "      <td>1</td>\n",
       "      <td>Cash loans</td>\n",
       "      <td>M</td>\n",
       "      <td>N</td>\n",
       "      <td>Y</td>\n",
       "      <td>0</td>\n",
       "      <td>202500.0</td>\n",
       "      <td>406597.5</td>\n",
       "      <td>24700.5</td>\n",
       "      <td>...</td>\n",
       "      <td>0</td>\n",
       "      <td>0</td>\n",
       "      <td>0</td>\n",
       "      <td>0</td>\n",
       "      <td>0.0</td>\n",
       "      <td>0.0</td>\n",
       "      <td>0.0</td>\n",
       "      <td>0.0</td>\n",
       "      <td>0.0</td>\n",
       "      <td>1.0</td>\n",
       "    </tr>\n",
       "    <tr>\n",
       "      <th>1</th>\n",
       "      <td>100003</td>\n",
       "      <td>0</td>\n",
       "      <td>Cash loans</td>\n",
       "      <td>F</td>\n",
       "      <td>N</td>\n",
       "      <td>N</td>\n",
       "      <td>0</td>\n",
       "      <td>270000.0</td>\n",
       "      <td>1293502.5</td>\n",
       "      <td>35698.5</td>\n",
       "      <td>...</td>\n",
       "      <td>0</td>\n",
       "      <td>0</td>\n",
       "      <td>0</td>\n",
       "      <td>0</td>\n",
       "      <td>0.0</td>\n",
       "      <td>0.0</td>\n",
       "      <td>0.0</td>\n",
       "      <td>0.0</td>\n",
       "      <td>0.0</td>\n",
       "      <td>0.0</td>\n",
       "    </tr>\n",
       "    <tr>\n",
       "      <th>2</th>\n",
       "      <td>100004</td>\n",
       "      <td>0</td>\n",
       "      <td>Revolving loans</td>\n",
       "      <td>M</td>\n",
       "      <td>Y</td>\n",
       "      <td>Y</td>\n",
       "      <td>0</td>\n",
       "      <td>67500.0</td>\n",
       "      <td>135000.0</td>\n",
       "      <td>6750.0</td>\n",
       "      <td>...</td>\n",
       "      <td>0</td>\n",
       "      <td>0</td>\n",
       "      <td>0</td>\n",
       "      <td>0</td>\n",
       "      <td>0.0</td>\n",
       "      <td>0.0</td>\n",
       "      <td>0.0</td>\n",
       "      <td>0.0</td>\n",
       "      <td>0.0</td>\n",
       "      <td>0.0</td>\n",
       "    </tr>\n",
       "    <tr>\n",
       "      <th>3</th>\n",
       "      <td>100006</td>\n",
       "      <td>0</td>\n",
       "      <td>Cash loans</td>\n",
       "      <td>F</td>\n",
       "      <td>N</td>\n",
       "      <td>Y</td>\n",
       "      <td>0</td>\n",
       "      <td>135000.0</td>\n",
       "      <td>312682.5</td>\n",
       "      <td>29686.5</td>\n",
       "      <td>...</td>\n",
       "      <td>0</td>\n",
       "      <td>0</td>\n",
       "      <td>0</td>\n",
       "      <td>0</td>\n",
       "      <td>NaN</td>\n",
       "      <td>NaN</td>\n",
       "      <td>NaN</td>\n",
       "      <td>NaN</td>\n",
       "      <td>NaN</td>\n",
       "      <td>NaN</td>\n",
       "    </tr>\n",
       "    <tr>\n",
       "      <th>4</th>\n",
       "      <td>100007</td>\n",
       "      <td>0</td>\n",
       "      <td>Cash loans</td>\n",
       "      <td>M</td>\n",
       "      <td>N</td>\n",
       "      <td>Y</td>\n",
       "      <td>0</td>\n",
       "      <td>121500.0</td>\n",
       "      <td>513000.0</td>\n",
       "      <td>21865.5</td>\n",
       "      <td>...</td>\n",
       "      <td>0</td>\n",
       "      <td>0</td>\n",
       "      <td>0</td>\n",
       "      <td>0</td>\n",
       "      <td>0.0</td>\n",
       "      <td>0.0</td>\n",
       "      <td>0.0</td>\n",
       "      <td>0.0</td>\n",
       "      <td>0.0</td>\n",
       "      <td>0.0</td>\n",
       "    </tr>\n",
       "  </tbody>\n",
       "</table>\n",
       "<p>5 rows × 81 columns</p>\n",
       "</div>"
      ],
      "text/plain": [
       "   SK_ID_CURR  TARGET NAME_CONTRACT_TYPE CODE_GENDER FLAG_OWN_CAR  \\\n",
       "0      100002       1         Cash loans           M            N   \n",
       "1      100003       0         Cash loans           F            N   \n",
       "2      100004       0    Revolving loans           M            Y   \n",
       "3      100006       0         Cash loans           F            N   \n",
       "4      100007       0         Cash loans           M            N   \n",
       "\n",
       "  FLAG_OWN_REALTY  CNT_CHILDREN  AMT_INCOME_TOTAL  AMT_CREDIT  AMT_ANNUITY  \\\n",
       "0               Y             0          202500.0    406597.5      24700.5   \n",
       "1               N             0          270000.0   1293502.5      35698.5   \n",
       "2               Y             0           67500.0    135000.0       6750.0   \n",
       "3               Y             0          135000.0    312682.5      29686.5   \n",
       "4               Y             0          121500.0    513000.0      21865.5   \n",
       "\n",
       "   ...  FLAG_DOCUMENT_18 FLAG_DOCUMENT_19 FLAG_DOCUMENT_20 FLAG_DOCUMENT_21  \\\n",
       "0  ...                 0                0                0                0   \n",
       "1  ...                 0                0                0                0   \n",
       "2  ...                 0                0                0                0   \n",
       "3  ...                 0                0                0                0   \n",
       "4  ...                 0                0                0                0   \n",
       "\n",
       "  AMT_REQ_CREDIT_BUREAU_HOUR AMT_REQ_CREDIT_BUREAU_DAY  \\\n",
       "0                        0.0                       0.0   \n",
       "1                        0.0                       0.0   \n",
       "2                        0.0                       0.0   \n",
       "3                        NaN                       NaN   \n",
       "4                        0.0                       0.0   \n",
       "\n",
       "   AMT_REQ_CREDIT_BUREAU_WEEK  AMT_REQ_CREDIT_BUREAU_MON  \\\n",
       "0                         0.0                        0.0   \n",
       "1                         0.0                        0.0   \n",
       "2                         0.0                        0.0   \n",
       "3                         NaN                        NaN   \n",
       "4                         0.0                        0.0   \n",
       "\n",
       "   AMT_REQ_CREDIT_BUREAU_QRT  AMT_REQ_CREDIT_BUREAU_YEAR  \n",
       "0                        0.0                         1.0  \n",
       "1                        0.0                         0.0  \n",
       "2                        0.0                         0.0  \n",
       "3                        NaN                         NaN  \n",
       "4                        0.0                         0.0  \n",
       "\n",
       "[5 rows x 81 columns]"
      ]
     },
     "execution_count": 46,
     "metadata": {},
     "output_type": "execute_result"
    }
   ],
   "source": [
    "train_df.head() ## Checking to see how this effected the data frame"
   ]
  },
  {
   "cell_type": "markdown",
   "id": "73b5a63f",
   "metadata": {},
   "source": [
    "## Impute NA values "
   ]
  },
  {
   "cell_type": "code",
   "execution_count": 47,
   "id": "21b8ab48",
   "metadata": {},
   "outputs": [],
   "source": [
    "train_df = impute(train_df)\n",
    "test_df = impute(test_df)  ## Calling the impute function"
   ]
  },
  {
   "cell_type": "markdown",
   "id": "eb10bba4",
   "metadata": {},
   "source": [
    "## Merging Other Data "
   ]
  },
  {
   "cell_type": "code",
   "execution_count": 48,
   "id": "6678a3b0",
   "metadata": {},
   "outputs": [],
   "source": [
    "## Merging the application data\n",
    "prev_app_agg = previous_application.groupby('SK_ID_CURR').agg({'AMT_APPLICATION': ['mean'],\n",
    "                                                               'AMT_CREDIT': ['mean'],\n",
    "                                                               'DAYS_DECISION': ['mean'],\n",
    "                                                               'CNT_PAYMENT': ['mean']})\n",
    "prev_app_agg.columns = ['PREVAPP_' + ('_'.join(col).upper()) for col in prev_app_agg.columns.values]\n",
    "\n",
    "application_train = train_df.merge(prev_app_agg, on='SK_ID_CURR', how='left')\n",
    "application_test = test_df.merge(prev_app_agg, on='SK_ID_CURR', how='left')"
   ]
  },
  {
   "cell_type": "code",
   "execution_count": 49,
   "id": "34c6edca",
   "metadata": {},
   "outputs": [],
   "source": [
    "## Merging Cash \n",
    "POS_CASH_agg = POS_CASH_balance.groupby('SK_ID_CURR').agg({'MONTHS_BALANCE': ['max'],\n",
    "                                                           'CNT_INSTALMENT': ['mean'],\n",
    "                                                           'SK_DPD': ['max']})\n",
    "POS_CASH_agg.columns = ['POSCASH_' + ('_'.join(col).upper()) for col in POS_CASH_agg.columns.values]\n",
    "\n",
    "application_train = application_train.merge(POS_CASH_agg, on='SK_ID_CURR', how='left')\n",
    "application_test = application_test.merge(POS_CASH_agg, on='SK_ID_CURR', how='left')"
   ]
  },
  {
   "cell_type": "code",
   "execution_count": 50,
   "id": "8f530a8f",
   "metadata": {},
   "outputs": [],
   "source": [
    "bureau_agg = bureau.groupby('SK_ID_CURR').agg({'DAYS_CREDIT': ['mean', 'min', 'max'],\n",
    "                                               'CREDIT_DAY_OVERDUE': ['max'],\n",
    "                                               'DAYS_CREDIT_ENDDATE': ['mean'],\n",
    "                                               'DAYS_CREDIT_UPDATE': ['mean']})\n",
    "# Flattening the multi-level columns\n",
    "bureau_agg.columns = ['BUREAU_' + ('_'.join(col).upper()) for col in bureau_agg.columns.values]\n",
    "\n",
    "# Merging aggregated bureau data with main application data\n",
    "application_train = application_train.merge(bureau_agg, on='SK_ID_CURR', how='left')\n",
    "application_test = application_test.merge(bureau_agg, on='SK_ID_CURR', how='left')"
   ]
  },
  {
   "cell_type": "code",
   "execution_count": 51,
   "id": "0fc73bee",
   "metadata": {},
   "outputs": [
    {
     "data": {
      "text/html": [
       "<div>\n",
       "<style scoped>\n",
       "    .dataframe tbody tr th:only-of-type {\n",
       "        vertical-align: middle;\n",
       "    }\n",
       "\n",
       "    .dataframe tbody tr th {\n",
       "        vertical-align: top;\n",
       "    }\n",
       "\n",
       "    .dataframe thead th {\n",
       "        text-align: right;\n",
       "    }\n",
       "</style>\n",
       "<table border=\"1\" class=\"dataframe\">\n",
       "  <thead>\n",
       "    <tr style=\"text-align: right;\">\n",
       "      <th></th>\n",
       "      <th>SK_ID_CURR</th>\n",
       "      <th>TARGET</th>\n",
       "      <th>NAME_CONTRACT_TYPE</th>\n",
       "      <th>CODE_GENDER</th>\n",
       "      <th>FLAG_OWN_CAR</th>\n",
       "      <th>FLAG_OWN_REALTY</th>\n",
       "      <th>CNT_CHILDREN</th>\n",
       "      <th>AMT_INCOME_TOTAL</th>\n",
       "      <th>AMT_CREDIT</th>\n",
       "      <th>AMT_ANNUITY</th>\n",
       "      <th>...</th>\n",
       "      <th>PREVAPP_CNT_PAYMENT_MEAN</th>\n",
       "      <th>POSCASH_MONTHS_BALANCE_MAX</th>\n",
       "      <th>POSCASH_CNT_INSTALMENT_MEAN</th>\n",
       "      <th>POSCASH_SK_DPD_MAX</th>\n",
       "      <th>BUREAU_DAYS_CREDIT_MEAN</th>\n",
       "      <th>BUREAU_DAYS_CREDIT_MIN</th>\n",
       "      <th>BUREAU_DAYS_CREDIT_MAX</th>\n",
       "      <th>BUREAU_CREDIT_DAY_OVERDUE_MAX</th>\n",
       "      <th>BUREAU_DAYS_CREDIT_ENDDATE_MEAN</th>\n",
       "      <th>BUREAU_DAYS_CREDIT_UPDATE_MEAN</th>\n",
       "    </tr>\n",
       "  </thead>\n",
       "  <tbody>\n",
       "    <tr>\n",
       "      <th>0</th>\n",
       "      <td>100002</td>\n",
       "      <td>1</td>\n",
       "      <td>Cash loans</td>\n",
       "      <td>M</td>\n",
       "      <td>N</td>\n",
       "      <td>Y</td>\n",
       "      <td>0</td>\n",
       "      <td>202500.0</td>\n",
       "      <td>406597.5</td>\n",
       "      <td>24700.5</td>\n",
       "      <td>...</td>\n",
       "      <td>24.000000</td>\n",
       "      <td>-1.0</td>\n",
       "      <td>24.000000</td>\n",
       "      <td>0.0</td>\n",
       "      <td>-874.000000</td>\n",
       "      <td>-1437.0</td>\n",
       "      <td>-103.0</td>\n",
       "      <td>0.0</td>\n",
       "      <td>-349.000000</td>\n",
       "      <td>-499.875000</td>\n",
       "    </tr>\n",
       "    <tr>\n",
       "      <th>1</th>\n",
       "      <td>100003</td>\n",
       "      <td>0</td>\n",
       "      <td>Cash loans</td>\n",
       "      <td>F</td>\n",
       "      <td>N</td>\n",
       "      <td>N</td>\n",
       "      <td>0</td>\n",
       "      <td>270000.0</td>\n",
       "      <td>1293502.5</td>\n",
       "      <td>35698.5</td>\n",
       "      <td>...</td>\n",
       "      <td>10.000000</td>\n",
       "      <td>-18.0</td>\n",
       "      <td>10.107143</td>\n",
       "      <td>0.0</td>\n",
       "      <td>-1400.750000</td>\n",
       "      <td>-2586.0</td>\n",
       "      <td>-606.0</td>\n",
       "      <td>0.0</td>\n",
       "      <td>-544.500000</td>\n",
       "      <td>-816.000000</td>\n",
       "    </tr>\n",
       "    <tr>\n",
       "      <th>2</th>\n",
       "      <td>100004</td>\n",
       "      <td>0</td>\n",
       "      <td>Revolving loans</td>\n",
       "      <td>M</td>\n",
       "      <td>Y</td>\n",
       "      <td>Y</td>\n",
       "      <td>0</td>\n",
       "      <td>67500.0</td>\n",
       "      <td>135000.0</td>\n",
       "      <td>6750.0</td>\n",
       "      <td>...</td>\n",
       "      <td>4.000000</td>\n",
       "      <td>-24.0</td>\n",
       "      <td>3.750000</td>\n",
       "      <td>0.0</td>\n",
       "      <td>-867.000000</td>\n",
       "      <td>-1326.0</td>\n",
       "      <td>-408.0</td>\n",
       "      <td>0.0</td>\n",
       "      <td>-488.500000</td>\n",
       "      <td>-532.000000</td>\n",
       "    </tr>\n",
       "    <tr>\n",
       "      <th>3</th>\n",
       "      <td>100006</td>\n",
       "      <td>0</td>\n",
       "      <td>Cash loans</td>\n",
       "      <td>F</td>\n",
       "      <td>N</td>\n",
       "      <td>Y</td>\n",
       "      <td>0</td>\n",
       "      <td>135000.0</td>\n",
       "      <td>312682.5</td>\n",
       "      <td>29686.5</td>\n",
       "      <td>...</td>\n",
       "      <td>23.000000</td>\n",
       "      <td>-1.0</td>\n",
       "      <td>12.000000</td>\n",
       "      <td>0.0</td>\n",
       "      <td>-1050.571429</td>\n",
       "      <td>-1827.0</td>\n",
       "      <td>-300.0</td>\n",
       "      <td>0.0</td>\n",
       "      <td>-135.577778</td>\n",
       "      <td>-481.833333</td>\n",
       "    </tr>\n",
       "    <tr>\n",
       "      <th>4</th>\n",
       "      <td>100007</td>\n",
       "      <td>0</td>\n",
       "      <td>Cash loans</td>\n",
       "      <td>M</td>\n",
       "      <td>N</td>\n",
       "      <td>Y</td>\n",
       "      <td>0</td>\n",
       "      <td>121500.0</td>\n",
       "      <td>513000.0</td>\n",
       "      <td>21865.5</td>\n",
       "      <td>...</td>\n",
       "      <td>20.666667</td>\n",
       "      <td>-1.0</td>\n",
       "      <td>15.333333</td>\n",
       "      <td>0.0</td>\n",
       "      <td>-1149.000000</td>\n",
       "      <td>-1149.0</td>\n",
       "      <td>-1149.0</td>\n",
       "      <td>0.0</td>\n",
       "      <td>-783.000000</td>\n",
       "      <td>-783.000000</td>\n",
       "    </tr>\n",
       "  </tbody>\n",
       "</table>\n",
       "<p>5 rows × 94 columns</p>\n",
       "</div>"
      ],
      "text/plain": [
       "   SK_ID_CURR  TARGET NAME_CONTRACT_TYPE CODE_GENDER FLAG_OWN_CAR  \\\n",
       "0      100002       1         Cash loans           M            N   \n",
       "1      100003       0         Cash loans           F            N   \n",
       "2      100004       0    Revolving loans           M            Y   \n",
       "3      100006       0         Cash loans           F            N   \n",
       "4      100007       0         Cash loans           M            N   \n",
       "\n",
       "  FLAG_OWN_REALTY  CNT_CHILDREN  AMT_INCOME_TOTAL  AMT_CREDIT  AMT_ANNUITY  \\\n",
       "0               Y             0          202500.0    406597.5      24700.5   \n",
       "1               N             0          270000.0   1293502.5      35698.5   \n",
       "2               Y             0           67500.0    135000.0       6750.0   \n",
       "3               Y             0          135000.0    312682.5      29686.5   \n",
       "4               Y             0          121500.0    513000.0      21865.5   \n",
       "\n",
       "   ...  PREVAPP_CNT_PAYMENT_MEAN POSCASH_MONTHS_BALANCE_MAX  \\\n",
       "0  ...                 24.000000                       -1.0   \n",
       "1  ...                 10.000000                      -18.0   \n",
       "2  ...                  4.000000                      -24.0   \n",
       "3  ...                 23.000000                       -1.0   \n",
       "4  ...                 20.666667                       -1.0   \n",
       "\n",
       "  POSCASH_CNT_INSTALMENT_MEAN POSCASH_SK_DPD_MAX BUREAU_DAYS_CREDIT_MEAN  \\\n",
       "0                   24.000000                0.0             -874.000000   \n",
       "1                   10.107143                0.0            -1400.750000   \n",
       "2                    3.750000                0.0             -867.000000   \n",
       "3                   12.000000                0.0            -1050.571429   \n",
       "4                   15.333333                0.0            -1149.000000   \n",
       "\n",
       "  BUREAU_DAYS_CREDIT_MIN  BUREAU_DAYS_CREDIT_MAX  \\\n",
       "0                -1437.0                  -103.0   \n",
       "1                -2586.0                  -606.0   \n",
       "2                -1326.0                  -408.0   \n",
       "3                -1827.0                  -300.0   \n",
       "4                -1149.0                 -1149.0   \n",
       "\n",
       "   BUREAU_CREDIT_DAY_OVERDUE_MAX  BUREAU_DAYS_CREDIT_ENDDATE_MEAN  \\\n",
       "0                            0.0                      -349.000000   \n",
       "1                            0.0                      -544.500000   \n",
       "2                            0.0                      -488.500000   \n",
       "3                            0.0                      -135.577778   \n",
       "4                            0.0                      -783.000000   \n",
       "\n",
       "   BUREAU_DAYS_CREDIT_UPDATE_MEAN  \n",
       "0                     -499.875000  \n",
       "1                     -816.000000  \n",
       "2                     -532.000000  \n",
       "3                     -481.833333  \n",
       "4                     -783.000000  \n",
       "\n",
       "[5 rows x 94 columns]"
      ]
     },
     "execution_count": 51,
     "metadata": {},
     "output_type": "execute_result"
    }
   ],
   "source": [
    "app_train = impute(application_train)\n",
    "app_test = impute(application_test)\n",
    "app_train.head()"
   ]
  },
  {
   "cell_type": "markdown",
   "id": "c7bccec2",
   "metadata": {},
   "source": [
    "## Feature Enginering"
   ]
  },
  {
   "cell_type": "code",
   "execution_count": 52,
   "id": "e85b2c63",
   "metadata": {},
   "outputs": [],
   "source": [
    "## Adding Division and Subtraction Based Features\n",
    "application_train['NEW_EXT_SOURCE_3_DIVIDE'] = application_train['EXT_SOURCE_3'] / (application_train['AMT_CREDIT'] + 0.01) # Avoid division by zero\n",
    "application_test['NEW_EXT_SOURCE_3_DIVIDE'] = application_test['EXT_SOURCE_3'] / (application_test['AMT_CREDIT'] + 0.01)"
   ]
  },
  {
   "cell_type": "code",
   "execution_count": 53,
   "id": "03763b56",
   "metadata": {},
   "outputs": [],
   "source": [
    "## Adding in Yearly Interest Rate Calculations \n",
    "app_train['YEARLY_INTEREST_RATE'] = (app_train['AMT_ANNUITY'] * 12) / app_train['AMT_CREDIT']\n",
    "app_test['YEARLY_INTEREST_RATE'] = (app_test['AMT_ANNUITY'] * 12) / app_test['AMT_CREDIT']"
   ]
  },
  {
   "cell_type": "code",
   "execution_count": 54,
   "id": "a970a2fb",
   "metadata": {},
   "outputs": [],
   "source": [
    "## Adding in Ratio's\n",
    "app_train['INCOME_TO_ANNUITY_RATIO'] = app_train['AMT_INCOME_TOTAL'] / app_train['AMT_ANNUITY']\n",
    "app_train['INCOME_TO_CREDIT_RATIO'] = app_train['AMT_INCOME_TOTAL'] / app_train['AMT_CREDIT']\n",
    "\n",
    "app_test['INCOME_TO_ANNUITY_RATIO'] = app_test['AMT_INCOME_TOTAL'] / app_test['AMT_ANNUITY']\n",
    "app_test['INCOME_TO_CREDIT_RATIO'] = app_test['AMT_INCOME_TOTAL'] / app_test['AMT_CREDIT']"
   ]
  },
  {
   "cell_type": "markdown",
   "id": "88be1048",
   "metadata": {},
   "source": [
    "## Create Cross Validation "
   ]
  },
  {
   "cell_type": "code",
   "execution_count": 55,
   "id": "b774944b",
   "metadata": {},
   "outputs": [],
   "source": [
    "kf = KFold(n_splits=5, shuffle=True, random_state=42) # initialize K fold"
   ]
  },
  {
   "cell_type": "code",
   "execution_count": 56,
   "id": "55f5821d",
   "metadata": {},
   "outputs": [],
   "source": [
    "X = app_train\n",
    "y = X.pop('TARGET')"
   ]
  },
  {
   "cell_type": "code",
   "execution_count": 57,
   "id": "5ba15262",
   "metadata": {},
   "outputs": [],
   "source": [
    "cv_results = [] ## Set up empty data frame\n",
    "cv_auc_scores = []\n",
    "cv_accuracy_scores = []"
   ]
  },
  {
   "cell_type": "code",
   "execution_count": 58,
   "id": "d1f360ad",
   "metadata": {},
   "outputs": [],
   "source": [
    "for train_index, test_index in kf.split(X):\n",
    "    X_train, X_test = X.iloc[train_index], X.iloc[test_index] ## Create for loop for the folds\n",
    "    y_train, y_test = y.iloc[train_index], y.iloc[test_index]"
   ]
  },
  {
   "cell_type": "markdown",
   "id": "39bbe6cb",
   "metadata": {},
   "source": [
    "## Model Explanation "
   ]
  },
  {
   "cell_type": "raw",
   "id": "865fe573",
   "metadata": {},
   "source": [
    "The model that we decided to use was a CatBoost model. This model is in the gradient boosting model family and works by converting decision trees in ensemble into a strong model; this ensemble model is built by sequentially correcting the mistakes of the prior trees. The reason for selecting this model over an XGBoost model for example was due to its unique ability to handle categorical variables and how the model limits overfitting. "
   ]
  },
  {
   "cell_type": "code",
   "execution_count": 59,
   "id": "5ec2f14c",
   "metadata": {},
   "outputs": [],
   "source": [
    "def get_categorical_features(df): ## Creating a function to handle categorical features and then pass them on to the cat features in CatBoost\n",
    "    cat_features = [col for col in df.columns if df[col].dtype == 'object' or df[col].dtype.name == 'category']\n",
    "    return cat_features \n",
    "\n",
    "cat_features = get_categorical_features(app_train)\n",
    "\n",
    "\n",
    "model = cb.CatBoostClassifier(\n",
    "    iterations=500,\n",
    "    learning_rate=0.1,\n",
    "    depth=6,\n",
    "    loss_function='Logloss',  \n",
    "    eval_metric='AUC',       \n",
    "    custom_metric=['AUC','Accuracy'],\n",
    "    random_seed=42,\n",
    "    verbose=200\n",
    ")"
   ]
  },
  {
   "cell_type": "code",
   "execution_count": 60,
   "id": "a6768199",
   "metadata": {},
   "outputs": [
    {
     "name": "stdout",
     "output_type": "stream",
     "text": [
      "0:\ttest: 0.6436110\tbest: 0.6436110 (0)\ttotal: 582ms\tremaining: 4m 50s\n",
      "200:\ttest: 0.7670646\tbest: 0.7670646 (200)\ttotal: 1m 44s\tremaining: 2m 35s\n",
      "400:\ttest: 0.7700787\tbest: 0.7701014 (398)\ttotal: 3m 43s\tremaining: 55.2s\n",
      "499:\ttest: 0.7704487\tbest: 0.7704766 (497)\ttotal: 4m 43s\tremaining: 0us\n",
      "\n",
      "bestTest = 0.7704766348\n",
      "bestIteration = 497\n",
      "\n",
      "Shrink model to first 498 iterations.\n"
     ]
    },
    {
     "data": {
      "text/plain": [
       "<catboost.core.CatBoostClassifier at 0x1e759ebfe50>"
      ]
     },
     "execution_count": 60,
     "metadata": {},
     "output_type": "execute_result"
    }
   ],
   "source": [
    "model.fit(\n",
    "    X_train, y_train,\n",
    "    cat_features=cat_features, \n",
    "    eval_set=(X_test, y_test) ## Run and test the model\n",
    ")"
   ]
  },
  {
   "cell_type": "markdown",
   "id": "8d53aa68",
   "metadata": {},
   "source": [
    "## Evaluate Final Model "
   ]
  },
  {
   "cell_type": "code",
   "execution_count": 61,
   "id": "6c569c3a",
   "metadata": {},
   "outputs": [
    {
     "name": "stdout",
     "output_type": "stream",
     "text": [
      "Fold AUC: 0.7704766348174066, Fold Accuracy: 0.9198074859354167\n",
      "Average AUC across folds: 0.7704766348174066\n",
      "Average Accuracy across folds: 0.9198074859354167\n"
     ]
    }
   ],
   "source": [
    "best_iteration = model.get_best_iteration()\n",
    "eval_results = model.get_evals_result()\n",
    "try:\n",
    "    # Try the expected key for a single validation set\n",
    "    auc = eval_results['validation']['AUC'][best_iteration]\n",
    "except KeyError:\n",
    "    # Log an error message and continue with a default value or alternative action\n",
    "    print(\"KeyError encountered. Adjust the key based on your eval_results structure.\")\n",
    "    auc = None  # You might choose to set a default value or take other actions\n",
    "    \n",
    "# Calculate accuracy only if auc could be retrieved\n",
    "if auc is not None:\n",
    "    accuracy = model.score(X_test, y_test)\n",
    "    # Append metrics to lists\n",
    "    cv_auc_scores.append(auc)\n",
    "    cv_accuracy_scores.append(accuracy)\n",
    "\n",
    "    \n",
    "    print(f\"Fold AUC: {auc}, Fold Accuracy: {accuracy}\")\n",
    "else:\n",
    "    # Handle the case where AUC couldn't be determined\n",
    "    print(\"AUC could not be determined for this fold due to KeyError.\")\n",
    "\n",
    "if cv_auc_scores and cv_accuracy_scores:  # Ensure the lists aren't empty\n",
    "    # Calculate and print the average AUC and accuracy across all folds\n",
    "    average_auc = np.mean(cv_auc_scores)\n",
    "    average_accuracy = np.mean(cv_accuracy_scores)\n",
    "    print(f\"Average AUC across folds: {average_auc}\")\n",
    "    print(f\"Average Accuracy across folds: {average_accuracy}\")\n",
    "else:\n",
    "    print(\"No AUC or accuracy scores were collected.\")"
   ]
  },
  {
   "cell_type": "markdown",
   "id": "5fbb60ed",
   "metadata": {},
   "source": [
    "## Final Predictions"
   ]
  },
  {
   "cell_type": "code",
   "execution_count": 62,
   "id": "da04f3de",
   "metadata": {},
   "outputs": [],
   "source": [
    "pred = model.predict(application_test) ## Creating Predictions"
   ]
  },
  {
   "cell_type": "code",
   "execution_count": 63,
   "id": "08d05d21",
   "metadata": {},
   "outputs": [],
   "source": [
    "result = pd.DataFrame({\n",
    "    'SK_ID_CURR': test_df['SK_ID_CURR'],\n",
    "    'TARGET': pred\n",
    "})"
   ]
  },
  {
   "cell_type": "code",
   "execution_count": 64,
   "id": "f9a34b2f",
   "metadata": {},
   "outputs": [],
   "source": [
    "file_path = \"C:/Users/Sam/Documents/GitHub/2024_03_01_Home_Credit_Model/2024_03_01_Home_Credit_Model/2024_03_01_Home_Credit_Model/submision.csv\"\n",
    "result.to_csv(file_path, index = False)"
   ]
  },
  {
   "cell_type": "markdown",
   "id": "28b350f9",
   "metadata": {},
   "source": [
    "## Feature Rank "
   ]
  },
  {
   "cell_type": "code",
   "execution_count": 65,
   "id": "1e75bbef",
   "metadata": {},
   "outputs": [
    {
     "name": "stdout",
     "output_type": "stream",
     "text": [
      "                            Feature  Importance\n",
      "39                     EXT_SOURCE_2   14.026706\n",
      "40                     EXT_SOURCE_3   11.365087\n",
      "94             YEARLY_INTEREST_RATE    7.721873\n",
      "16                       DAYS_BIRTH    4.234756\n",
      "9                   AMT_GOODS_PRICE    3.123313\n",
      "2                       CODE_GENDER    2.665237\n",
      "83         PREVAPP_CNT_PAYMENT_MEAN    2.568683\n",
      "85      POSCASH_CNT_INSTALMENT_MEAN    2.551120\n",
      "17                    DAYS_EMPLOYED    2.523310\n",
      "93          NEW_EXT_SOURCE_3_DIVIDE    2.486848\n",
      "12              NAME_EDUCATION_TYPE    2.333265\n",
      "82       PREVAPP_DAYS_DECISION_MEAN    2.260215\n",
      "89           BUREAU_DAYS_CREDIT_MAX    2.154021\n",
      "91  BUREAU_DAYS_CREDIT_ENDDATE_MEAN    2.047532\n",
      "84       POSCASH_MONTHS_BALANCE_MAX    1.967835\n",
      "86               POSCASH_SK_DPD_MAX    1.935025\n",
      "8                       AMT_ANNUITY    1.776879\n",
      "7                        AMT_CREDIT    1.608603\n",
      "80     PREVAPP_AMT_APPLICATION_MEAN    1.573362\n",
      "19                  DAYS_ID_PUBLISH    1.498451\n"
     ]
    }
   ],
   "source": [
    "feature_importances = model.get_feature_importance()\n",
    "\n",
    "# Create a DataFrame to display them\n",
    "feature_importances_df = pd.DataFrame({\n",
    "    'Feature': X.columns,\n",
    "    'Importance': feature_importances\n",
    "}).sort_values(by='Importance', ascending=False)\n",
    "\n",
    "# Display the top features\n",
    "print(feature_importances_df.head(20))"
   ]
  },
  {
   "cell_type": "markdown",
   "id": "96861177",
   "metadata": {},
   "source": [
    "## Vizualize the Feature Rank "
   ]
  },
  {
   "cell_type": "code",
   "execution_count": 66,
   "id": "5e49e64f",
   "metadata": {},
   "outputs": [
    {
     "data": {
      "image/png": "[encoded data removed]",
      "text/plain": [
       "<Figure size 1200x800 with 1 Axes>"
      ]
     },
     "metadata": {},
     "output_type": "display_data"
    }
   ],
   "source": [
    "plt.figure(figsize=(12, 8))\n",
    "sns.barplot(x=\"Importance\", y=\"Feature\", data=feature_importances_df.head(20))\n",
    "plt.title('Top 20 Most Important Features')\n",
    "plt.show()"
   ]
  },
  {
   "cell_type": "markdown",
   "id": "d9414a29",
   "metadata": {},
   "source": [
    "## Result Section "
   ]
  },
  {
   "cell_type": "raw",
   "id": "2fdbfbe6",
   "metadata": {},
   "source": [
    "The model showcased notable efficacy, achieving an average AUC score of 0.7705 and an average accuracy rate of 91.98% across the folds. These results underline the model’s substantial ability to differentiate between those who are likely to fulfill their loan obligations and those who are not. An AUC score close to 0.77 indicates a strong discriminative power, enhancing the model's utility in making informed lending decisions. This endeavor not only aligns with Home Credit's aim to promote financial inclusion by enabling access to credit for traditionally marginalized groups but also exemplifies the impactful use of data science in fostering equitable financial services. Through such predictive modeling efforts, Home Credit is paving the way for more inclusive lending practices, ensuring that creditworthiness is assessed accurately and fairly, based on a person's true potential to repay."
   ]
  }
 ],
 "metadata": {
  "kernelspec": {
   "display_name": "Python 3 (ipykernel)",
   "language": "python",
   "name": "python3"
  },
  "language_info": {
   "codemirror_mode": {
    "name": "ipython",
    "version": 3
   },
   "file_extension": ".py",
   "mimetype": "text/x-python",
   "name": "python",
   "nbconvert_exporter": "python",
   "pygments_lexer": "ipython3",
   "version": "3.11.7"
  }
 },
 "nbformat": 4,
 "nbformat_minor": 5
}
